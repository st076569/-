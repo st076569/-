{
 "cells": [
  {
   "cell_type": "code",
   "execution_count": 5,
   "id": "f8a7b882",
   "metadata": {},
   "outputs": [
    {
     "data": {
      "image/png": "[encoded data removed]",
      "text/plain": [
       "<Figure size 576x432 with 1 Axes>"
      ]
     },
     "metadata": {
      "needs_background": "light"
     },
     "output_type": "display_data"
    }
   ],
   "source": [
    "#################################################################################\n",
    "# Непрерывная классификация. ВЫбрать датасет для классификации или              #\n",
    "# распознавания образов (тоже можно интерпретировать как классификацию). Для    #\n",
    "# этого датасета построить классификацию с помощью:                             #\n",
    "# a) Метода опорных векторов                                                    #\n",
    "# b) Метода k ближайших соседей. k подобрать экспериментально методом           #\n",
    "#    \"скользящего контроля\".                                                    # \n",
    "# Сравнить качество получающихся классификаторов экспериментально (описать      #\n",
    "# какими критериями пользовались).                                              #\n",
    "#################################################################################\n",
    "\n",
    "# Импортируем нужные библиотеки:\n",
    "import numpy as np\n",
    "import pandas as pd\n",
    "import matplotlib.pyplot as plt\n",
    "\n",
    "from sklearn import datasets\n",
    "from sklearn.model_selection import train_test_split\n",
    "from sklearn import metrics\n",
    "from sklearn.svm import SVC\n",
    "from sklearn.neighbors import KNeighborsClassifier\n",
    "from pandas import DataFrame\n",
    "\n",
    "# Загружаем набор данных Ирисы\n",
    "iris = datasets.load_iris()\n",
    "\n",
    "iris_frame = DataFrame(iris.data)\n",
    "\n",
    "# Делаем имена колонок такие же, как имена переменных\n",
    "iris_frame.columns = iris.feature_names\n",
    "\n",
    "# Добавляем столбец с целевой переменной\n",
    "iris_frame['target'] = iris.target\n",
    "\n",
    "# Для наглядности добавляем столбец с сортами\n",
    "iris_frame['name'] = iris_frame.target.apply(lambda x : iris.target_names[x])\n",
    "\n",
    "# Количество блоков в методе k-fold кросс-валидация\n",
    "maxRepeatNum = 30;\n",
    "\n",
    "# Массивы точек для вывода информации на экран\n",
    "coordX_SVM = []\n",
    "coordY_SVM = []\n",
    "coordX_KNN = []\n",
    "coordY_KNN = []\n",
    "\n",
    "for num in range(80):\n",
    "    # Контрольные суммы (оценка точности работы алгоритмов)\n",
    "    qSum_SVM = 0\n",
    "    qSum_KNN = 0\n",
    "    \n",
    "    # Повторяем несколько раз для усреднения точности\n",
    "    for index in range(maxRepeatNum):\n",
    "        # Создаем обучающую и проверочную выборки\n",
    "        train_data, test_data, train_labels, test_labels = train_test_split(iris_frame[['sepal length (cm)',\n",
    "                                                                                        'sepal width (cm)',\n",
    "                                                                                        'petal length (cm)',\n",
    "                                                                                        'petal width (cm)']], \n",
    "                                                                            iris_frame['target'], \n",
    "                                                                            test_size = 0.1 + 0.01 * (num + 1), \n",
    "                                                                            random_state = index)\n",
    "        # Инициализация и обучение алгоритма SVM\n",
    "        svm = SVC(kernel='linear', C=1.0, random_state=index)\n",
    "        svm.fit(train_data, train_labels)\n",
    "        \n",
    "        # Инициализация и обучение алгоритма KNN\n",
    "        knn = KNeighborsClassifier(n_neighbors=12, p=2, metric='minkowski')\n",
    "        knn.fit(train_data, train_labels)\n",
    "        \n",
    "        #Суммируем точности работы алгоритмов\n",
    "        qSum_SVM += metrics.accuracy_score(test_labels, svm.predict(test_data))\n",
    "        qSum_KNN += metrics.accuracy_score(test_labels, knn.predict(test_data))\n",
    "    \n",
    "    # Добавляем новую точку в массивы\n",
    "    coordX_SVM.append(0.1 + 0.01 * (num + 1))\n",
    "    coordY_SVM.append(qSum_SVM / maxRepeatNum)\n",
    "    coordX_KNN.append(0.1 + 0.01 * (num + 1))\n",
    "    coordY_KNN.append(qSum_KNN / maxRepeatNum)\n",
    "\n",
    "# Рисуем график зависимости эффективности алгоритма от количества соседей\n",
    "plt.rcParams['figure.figsize'] = [8, 6]\n",
    "plt.title('Сlassifier efficiency')\n",
    "plt.axis([0, 1, 0.4, 1])\n",
    "plt.ylabel('Accuracy')\n",
    "plt.xlabel('Test sample percentage')\n",
    "plt.plot(coordX_SVM, coordY_SVM, 'b')\n",
    "plt.plot(coordX_KNN, coordY_KNN, 'r')\n",
    "plt.legend(['SVM','KNN'], loc=3)\n",
    "plt.show()"
   ]
  },
  {
   "cell_type": "code",
   "execution_count": null,
   "id": "1e8ba930",
   "metadata": {},
   "outputs": [],
   "source": []
  }
 ],
 "metadata": {
  "kernelspec": {
   "display_name": "Python 3",
   "language": "python",
   "name": "python3"
  },
  "language_info": {
   "codemirror_mode": {
    "name": "ipython",
    "version": 3
   },
   "file_extension": ".py",
   "mimetype": "text/x-python",
   "name": "python",
   "nbconvert_exporter": "python",
   "pygments_lexer": "ipython3",
   "version": "3.9.2"
  }
 },
 "nbformat": 4,
 "nbformat_minor": 5
}
